{
 "cells": [
  {
   "cell_type": "markdown",
   "metadata": {},
   "source": [
    "# Deploy To MIR (Bring your own container)"
   ]
  },
  {
   "cell_type": "markdown",
   "metadata": {},
   "source": [
    "\n",
    "## Prerequisite\n",
    "\n",
    "1. Azure Cli  （https://docs.microsoft.com/en-us/cli/azure/）\n",
    "2. CLI extension for Azure Machine Learning  （https://docs.microsoft.com/en-us/azure/machine-learning/reference-azure-machine-learning-cli）"
   ]
  },
  {
   "cell_type": "markdown",
   "metadata": {},
   "source": [
    "## Prepare model repository\n",
    "The model repository is the directory where you place the models. The directory layout must follow the [\"triton model repository layout\"](https://github.com/triton-inference-server/server/blob/main/docs/model_repository.md) \n",
    "\n",
    "```\n",
    "<model-repository-path>/\n",
    "    <model-name>/\n",
    "      [config.pbtxt]\n",
    "      <version>/\n",
    "        <model-definition-file>\n",
    "      <version>/\n",
    "        <model-definition-file>\n",
    "      ...\n",
    "    <model-name>/\n",
    "      [config.pbtxt]\n",
    "      <version>/\n",
    "        <model-definition-file>\n",
    "      <version>/\n",
    "        <model-definition-file>\n",
    "      ...\n",
    "    ...\n",
    "```"
   ]
  },
  {
   "cell_type": "code",
   "execution_count": null,
   "metadata": {},
   "outputs": [],
   "source": [
    "# For demo purpose, we use this `mock_repo.py` script to duplicate models into many copies.\n",
    "\n",
    "! python ../mock_repo.py --copy 100 --name densenet_onnx  ../repository_sample  ./models"
   ]
  },
  {
   "cell_type": "code",
   "execution_count": null,
   "metadata": {},
   "outputs": [],
   "source": [
    "# prepare azureml workspace\n",
    "SUBSCRIPTION=\"<your sub id>\"\n",
    "RESOURCE_GROUP=\"<your rg>\"\n",
    "WORKSPACE=\"<your ws>\"\n",
    "! az account set --subscription $SUBSCRIPTION\n",
    "! az configure --defaults workspace=$WORKSPACE group=$RESOURCE_GROUP"
   ]
  },
  {
   "cell_type": "code",
   "execution_count": null,
   "metadata": {},
   "outputs": [],
   "source": [
    "# Register the repository as one azureml model \n",
    "MODEL_NAME=\"my-multi-model\"\n",
    "! az ml model create --name $MODEL_NAME --local-path=./models  --version 1 "
   ]
  },
  {
   "cell_type": "markdown",
   "metadata": {},
   "source": [
    "# Prepare the Multi-Model Triton image\n",
    "\n"
   ]
  },
  {
   "cell_type": "code",
   "execution_count": null,
   "metadata": {},
   "outputs": [],
   "source": [
    "# find the ACR name\n",
    "acr_id = !az ml workspace show --query container_registry\n",
    "acr_name = acr_id[-1].replace('\"', '').split('/')[-1]\n",
    "print('The ACR name is ' + acr_name)\n",
    "\n",
    "IMAGE_NAME = f\"{acr_name}.azurecr.io/multi-model-triton:latest\"\n",
    "\n",
    "!az acr import --name $acr_name --source amlitpmvp.azurecr.io/yulhuang/multi-model-triton:latest --image multi-model-triton:latest \n",
    "\n"
   ]
  },
  {
   "cell_type": "markdown",
   "metadata": {},
   "source": [
    "## Create MIR endpoint"
   ]
  },
  {
   "cell_type": "code",
   "execution_count": null,
   "metadata": {},
   "outputs": [],
   "source": [
    "# create the endpoint yaml file, please \n",
    "\n",
    "ENDPOINT_NAME=\"multi-model-triton-byoc\"   #change this to your endpoint\n",
    "endpoint_yaml = f\"\"\"\n",
    "name: {ENDPOINT_NAME}\n",
    "auth_mode: key\n",
    "\"\"\"\n",
    "\n",
    "%store endpoint_yaml >endpoint.yaml"
   ]
  },
  {
   "cell_type": "code",
   "execution_count": null,
   "metadata": {},
   "outputs": [],
   "source": [
    "# create endpoint\n",
    "! az ml online-endpoint create --file endpoint.yaml"
   ]
  },
  {
   "cell_type": "markdown",
   "metadata": {},
   "source": [
    "## Create MIR deployment"
   ]
  },
  {
   "cell_type": "code",
   "execution_count": null,
   "metadata": {},
   "outputs": [],
   "source": [
    "DEPLOYMENT_NAME=\"triton\"  # change this to your deployment name\n",
    "\n",
    "deployment_yaml = f\"\"\"\n",
    "$schema: https://azuremlschemas.azureedge.net/latest/managedOnlineDeployment.schema.json\n",
    "name: {DEPLOYMENT_NAME}\n",
    "endpoint_name: {ENDPOINT_NAME}\n",
    "model:\n",
    "   name: {MODEL_NAME}\n",
    "   version: 1\n",
    "   local_path: \"./models\"\n",
    "environment:\n",
    "  name: multi-model-triton-env\n",
    "  version: 1\n",
    "  image: {IMAGE_NAME}\n",
    "  os_type: linux\n",
    "  inference_config:\n",
    "    liveness_route:\n",
    "      port: 9000\n",
    "      path: /v2/health/live\n",
    "    readiness_route:\n",
    "      port: 9000\n",
    "      path: /v2/health/ready\n",
    "    scoring_route:\n",
    "      port: 9000\n",
    "      path: /v2/models\n",
    "instance_type: Standard_F2s_v2\n",
    "instance_count: 1\n",
    "\n",
    "\"\"\"\n",
    "\n",
    "%store deployment_yaml >deployment.yaml"
   ]
  },
  {
   "cell_type": "code",
   "execution_count": null,
   "metadata": {},
   "outputs": [],
   "source": [
    "# create the deployment\n",
    "!az ml online-deployment create  --file ./deployment.yaml"
   ]
  },
  {
   "cell_type": "markdown",
   "metadata": {},
   "source": [
    "## Test the deployment"
   ]
  },
  {
   "cell_type": "code",
   "execution_count": null,
   "metadata": {},
   "outputs": [],
   "source": [
    "# find the scoring url\n",
    "content=!az ml online-endpoint show --name $ENDPOINT_NAME --query \"scoring_uri\"\n",
    "score_uri = content[-1].replace('\"', '')\n",
    "print(score_uri)\n",
    "\n",
    "from urllib.parse import urlparse\n",
    "u = urlparse(score_uri)\n",
    "base_url = u.scheme +\"://\"+ u.netloc"
   ]
  },
  {
   "cell_type": "code",
   "execution_count": null,
   "metadata": {},
   "outputs": [],
   "source": [
    "# find the auth key\n",
    "content = !az ml online-endpoint get-credentials --name multi-model-triton-byoc --query primaryKey\n",
    "key = content[-1]"
   ]
  },
  {
   "cell_type": "code",
   "execution_count": null,
   "metadata": {},
   "outputs": [],
   "source": [
    "# Test inference by curl\n",
    "model_name = \"densenet_onnx_1\"  #\n",
    "#  `request_onnx.json` contains request body \n",
    "\n",
    "!curl --request POST $score_uri/$model_name/infer \\\n",
    "    --header \"azureml-model-deployment: $DEPLOYMENT_NAME\" \\\n",
    "    --header \"Authorization: Bearer $key\" \\\n",
    "    --header 'Content-Type: application/json' \\\n",
    "    --data \"@sample-request_onnx.json\""
   ]
  },
  {
   "cell_type": "code",
   "execution_count": null,
   "metadata": {},
   "outputs": [],
   "source": [
    "# you can call multi-model repository api to retrieve the model status\n",
    "\n",
    "!curl $base_url/v2/repository/index --header \"Authorization: Bearer $key\" "
   ]
  },
  {
   "cell_type": "code",
   "execution_count": null,
   "metadata": {},
   "outputs": [],
   "source": [
    "# Unlike vanilla triton server, our multi-model manage model loading/unloading automatically by monitoring the memory usage.\n",
    "# When receive a request, it load the model first if the model is not loaded before\n",
    "# Also if memory usage is high, the model which idles the longest time will be unloaded\n",
    "\n",
    "# client.py is a script spawn inference requests randomly\n",
    "from urllib.parse import urlparse\n",
    "u = urlparse(score_uri)\n",
    "base_url = u.scheme +\"://\"+ u.netloc\n",
    " \n",
    "! python ../client.py --base $base_url --request-file=\"./sample-request_onnx.json\" --key $key '*'"
   ]
  }
 ],
 "metadata": {
  "interpreter": {
   "hash": "25af44910891bf66202fdf53ed433944c9009d97c5e09cca6cc6716f6fbe5788"
  },
  "kernelspec": {
   "display_name": "Python 3.8.12 64-bit ('myenv': conda)",
   "language": "python",
   "name": "python3"
  },
  "language_info": {
   "codemirror_mode": {
    "name": "ipython",
    "version": 3
   },
   "file_extension": ".py",
   "mimetype": "text/x-python",
   "name": "python",
   "nbconvert_exporter": "python",
   "pygments_lexer": "ipython3",
   "version": "3.8.12"
  },
  "orig_nbformat": 4
 },
 "nbformat": 4,
 "nbformat_minor": 2
}
